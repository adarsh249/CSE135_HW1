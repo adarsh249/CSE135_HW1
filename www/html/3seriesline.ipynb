{
 "cells": [
  {
   "cell_type": "code",
   "execution_count": 1,
   "id": "35df3451",
   "metadata": {},
   "outputs": [],
   "source": [
    "pip install mysql-connector-python"
   ]
  },
  {
   "cell_type": "code",
   "execution_count": 3,
   "id": "1bbf347f",
   "metadata": {},
   "outputs": [],
   "source": [
    "import mysql.connector\n",
    "import matplotlib.pyplot as plt\n",
    "\n",
    "# Connect to the MySQL database\n",
    "cnx = mysql.connector.connect(\n",
    "    host='localhost',\n",
    "    user='root',\n",
    "    password='123',\n",
    "    database='userdata'\n",
    ")\n",
    "\n",
    "# Create a cursor object\n",
    "cursor = cnx.cursor()\n",
    "\n",
    "# Retrieve the data from the database\n",
    "query = '''\n",
    "    SELECT p.pageLoadEndTime, p.pageLoadTime, s.useragent\n",
    "    FROM performance p\n",
    "    INNER JOIN static s ON p.someForeignKey = s.someForeignKey\n",
    "'''\n",
    "cursor.execute(query)\n",
    "result = cursor.fetchall()\n",
    "\n",
    "# Separate the data into three series based on useragent\n",
    "android_data = [(row[0], row[1]) for row in result if row[2] == 'android']\n",
    "mac_data = [(row[0], row[1]) for row in result if row[2] == 'mac']\n",
    "windows_data = [(row[0], row[1]) for row in result if row[2] == 'windows']\n",
    "\n",
    "# Close the database connection\n",
    "cursor.close()\n",
    "cnx.close()\n",
    "\n",
    "# Extract the x and y values for each series\n",
    "android_x, android_y = zip(*android_data)\n",
    "mac_x, mac_y = zip(*mac_data)\n",
    "windows_x, windows_y = zip(*windows_data)\n",
    "\n",
    "# Plot the data\n",
    "plt.plot(android_x, android_y, label='Android')\n",
    "plt.plot(mac_x, mac_y, label='Mac')\n",
    "plt.plot(windows_x, windows_y, label='Windows')\n",
    "\n",
    "# Set the labels and title\n",
    "plt.xlabel('Time (hour)')\n",
    "plt.ylabel('Page Load Time (ms)')\n",
    "plt.title('Page Load Time by User Agent')\n",
    "\n",
    "# Display the legend\n",
    "plt.legend()\n",
    "\n",
    "# Show the plot\n",
    "plt.show()"
   ]
  },
  {
   "cell_type": "code",
   "execution_count": 5,
   "id": "604b2a24",
   "metadata": {},
   "outputs": [],
   "source": [
    "android_data"
   ]
  },
  {
   "cell_type": "code",
   "execution_count": null,
   "id": "83998794",
   "metadata": {},
   "outputs": [],
   "source": []
  }
 ],
 "metadata": {
  "kernelspec": {
   "display_name": "Python 3 (ipykernel)",
   "language": "python",
   "name": "python3"
  },
  "language_info": {
   "codemirror_mode": {
    "name": "ipython",
    "version": 3
   },
   "file_extension": ".py",
   "mimetype": "text/x-python",
   "name": "python",
   "nbconvert_exporter": "python",
   "pygments_lexer": "ipython3",
   "version": "3.10.7"
  }
 },
 "nbformat": 4,
 "nbformat_minor": 5
}
